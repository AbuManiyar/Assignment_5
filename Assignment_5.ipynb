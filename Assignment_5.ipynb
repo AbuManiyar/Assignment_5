{
  "nbformat": 4,
  "nbformat_minor": 0,
  "metadata": {
    "colab": {
      "provenance": []
    },
    "kernelspec": {
      "name": "python3",
      "display_name": "Python 3"
    },
    "language_info": {
      "name": "python"
    }
  },
  "cells": [
    {
      "cell_type": "markdown",
      "source": [
        "1. What does an empty dictionary's code look like?\n",
        "Ans: The following code shows an empty dictionary\n",
        "a = {}\n",
        "\n",
        "\n",
        "2. What is the value of a dictionary value with the key 'foo' and the value 42?\n",
        "Ans: a=  {\"foo\" : 42}\n",
        "\n",
        "3. What is the most significant distinction between a dictionary and a list?\n",
        "Ans: Significant difference between a dictionary and list is that a\n",
        "dictionary has key value pair whereas list has values. In dictionary values\n",
        "can be accessed by the respective keys whereas in case of list values can be accessed by index.\n",
        "\n",
        "\n",
        "4. What happens if you try to access spam['foo'] if spam is\n",
        "{'bar': 100}?\n",
        "Ans: KeyError: 'foo'\n",
        "It throws an error as above\n",
        "\n",
        "\n",
        "5. If a dictionary is stored in spam, what is the difference between the\n",
        "expressions 'cat' in spam and 'cat' in spam.keys()?\n",
        "Ans: Basically there is no difference between both the expression they both means same and hence return same value either True or False.\n",
        "\n",
        "\n",
        "6. If a dictionary is stored in spam, what is the difference between the\n",
        "expressions 'cat' in spam and 'cat' in spam.values()?\n",
        "Ans: 'cat' in spam will look for 'cat' in keys of spam dictionary if it\n",
        "present it will return True else False is returned. On the other hand\n",
        "'cat' in spam.values() will look for 'cat' in values of the spam\n",
        "dictionary and returns True if 'cat' is present and return False if not\n",
        "present.\n",
        "\n",
        "7. What is a shortcut for the following code?\n",
        "if 'color' not in spam:\n",
        "  spam['color'] = 'black'\n",
        "Ans: The shorcut could be just=>  spam['color'] = 'black'\n",
        "\n",
        "\n",
        "8. How do you 'pretty print' dictionary values using which module and function?\n",
        "Ans: Using the json built-in module and using its function dumps() we can\n",
        "pretty print a dictionary values."
      ],
      "metadata": {
        "id": "FmlfmsFtYrJg"
      }
    }
  ]
}